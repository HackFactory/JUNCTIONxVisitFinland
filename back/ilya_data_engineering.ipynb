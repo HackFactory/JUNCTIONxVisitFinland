{
 "cells": [
  {
   "cell_type": "code",
   "execution_count": null,
   "metadata": {},
   "outputs": [],
   "source": [
    "from collections import defaultdict\n",
    "import json\n",
    "\n",
    "import numpy as np\n",
    "import pandas as pd\n",
    "\n",
    "import time"
   ]
  },
  {
   "cell_type": "code",
   "execution_count": null,
   "metadata": {},
   "outputs": [],
   "source": [
    "rfpl_info_file = './Data/rfpl_info.json'\n",
    "with open(rfpl_info_file, 'r') as file:\n",
    "    data = json.load(file)"
   ]
  },
  {
   "cell_type": "markdown",
   "metadata": {},
   "source": [
    "* Get the venues info:"
   ]
  },
  {
   "cell_type": "code",
   "execution_count": null,
   "metadata": {},
   "outputs": [],
   "source": [
    "matches = data[\"data\"][\"stat_tournament\"][\"currentSeason\"][\"matches\"]\n",
    "VENUE_COLS = ['id', 'name', 'capacity', 'lon', 'lat']"
   ]
  },
  {
   "cell_type": "code",
   "execution_count": null,
   "metadata": {
    "scrolled": true
   },
   "outputs": [],
   "source": [
    "matches_info = defaultdict(list)\n",
    "for match in matches:\n",
    "    matches_info['match_id'].append(match['id'])\n",
    "    matches_info['match_start_time'].append(match['scheduledAtStamp'])\n",
    "    matches_info['home_team_id'].append(match['home']['team']['id'])\n",
    "    matches_info['home_team_name'].append(match['home']['team']['name'])\n",
    "    matches_info['home_team_logo'].append(match['home']['team']['logo']['main'])\n",
    "    matches_info['away_team_id'].append(match['away']['team']['id'])\n",
    "    matches_info['away_team_name'].append(match['away']['team']['name'])\n",
    "    matches_info['away_team_logo'].append(match['away']['team']['logo']['main'])\n",
    "    home_score = 0\n",
    "    away_score = 0\n",
    "    for scores in match['periodScore']:\n",
    "        home_score += scores['homeScore']\n",
    "        away_score += scores['awayScore']\n",
    "    matches_info['home_score'].append(home_score)\n",
    "    matches_info['away_score'].append(away_score)\n",
    "    if match['venue'] is not None:\n",
    "        for col in VENUE_COLS:\n",
    "            matches_info['venue_'+col].append(match['venue'][col])\n",
    "    else:\n",
    "        for col in VENUE_COLS:\n",
    "            matches_info['venue_'+col].append(None)"
   ]
  },
  {
   "cell_type": "code",
   "execution_count": null,
   "metadata": {
    "scrolled": true
   },
   "outputs": [],
   "source": [
    "MATCHES_INFO_PATH = './Data/matches_info.csv'\n",
    "matches_df = pd.DataFrame(\n",
    "    data=matches_info\n",
    ")\n",
    "matches_df.dropna(inplace=True)\n",
    "matches_df.to_csv(MATCHES_INFO_PATH)\n",
    "matches_df"
   ]
  },
  {
   "cell_type": "markdown",
   "metadata": {},
   "source": [
    "* Match the User's location and time with the suitable match:"
   ]
  },
  {
   "cell_type": "code",
   "execution_count": null,
   "metadata": {},
   "outputs": [],
   "source": [
    "def return_closest_match_info(input_dict, matches_db_path='./Data/matches_info.csv'):\n",
    "    '''\n",
    "    input_dict = {'lon': 0, 'lat': 0, 'time': unicode_time}\n",
    "    '''\n",
    "    matches_df = pd.read_csv(matches_db_path)\n",
    "    lonlat = matches_df.loc[:, ['venue_lon', 'venue_lat']].values\n",
    "    user_lonlat = np.array([input_dict['lon'], input_dict['lat']])\n",
    "    dists = np.square(lonlat[:,np.newaxis]-user_lonlat).sum(axis=2)\n",
    "    closest_venue_id = matches_df.iloc[np.argmin(dists),:]['venue_id']\n",
    "    closest_matches = matches_df[matches_df['venue_id'] == closest_venue_id]\n",
    "    closest_match_id = np.argmin(closest_matches['match_start_time'].values - input_dict['time'])\n",
    "    result = dict(closest_matches.iloc[closest_match_id, :])\n",
    "    INT_COLS = ['match_id', 'match_start_time', 'venue_capacity']\n",
    "    FLOAT_COLS = ['venue_lon', 'venue_lat']\n",
    "    for col in INT_COLS:\n",
    "        result[col] = int(result[col])\n",
    "    for col in FLOAT_COLS:\n",
    "        result[col] = float(result[col])\n",
    "    del result['Unnamed: 0']\n",
    "    return result"
   ]
  },
  {
   "cell_type": "code",
   "execution_count": null,
   "metadata": {},
   "outputs": [],
   "source": [
    "input_dict = {'lon': 32.0547, 'lat': 49.4361, 'time': 1564419600}                                              \n",
    "out = return_closest_match_info(input_dict)"
   ]
  },
  {
   "cell_type": "code",
   "execution_count": null,
   "metadata": {},
   "outputs": [],
   "source": [
    "out"
   ]
  },
  {
   "cell_type": "code",
   "execution_count": null,
   "metadata": {},
   "outputs": [],
   "source": [
    "for col in out:\n",
    "    print(type(out[col]))"
   ]
  },
  {
   "cell_type": "code",
   "execution_count": null,
   "metadata": {},
   "outputs": [],
   "source": []
  },
  {
   "cell_type": "code",
   "execution_count": null,
   "metadata": {},
   "outputs": [],
   "source": []
  }
 ],
 "metadata": {
  "kernelspec": {
   "display_name": "Python 3",
   "language": "python",
   "name": "python3"
  },
  "language_info": {
   "codemirror_mode": {
    "name": "ipython",
    "version": 3
   },
   "file_extension": ".py",
   "mimetype": "text/x-python",
   "name": "python",
   "nbconvert_exporter": "python",
   "pygments_lexer": "ipython3",
   "version": "3.7.3"
  }
 },
 "nbformat": 4,
 "nbformat_minor": 2
}
